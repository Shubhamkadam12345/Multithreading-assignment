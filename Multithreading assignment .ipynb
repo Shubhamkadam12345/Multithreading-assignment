{
 "cells": [
  {
   "cell_type": "code",
   "execution_count": null,
   "id": "e8beee57-c28c-4c46-8b7e-cfb64cc728c7",
   "metadata": {},
   "outputs": [],
   "source": [
    "Q.1"
   ]
  },
  {
   "cell_type": "code",
   "execution_count": null,
   "id": "5a37dc79-e848-4480-972b-c94916f67bcd",
   "metadata": {},
   "outputs": [],
   "source": [
    "Import threading"
   ]
  },
  {
   "cell_type": "code",
   "execution_count": null,
   "id": "39e9f50b-a800-4c6a-aca6-f1b2644141c9",
   "metadata": {},
   "outputs": [],
   "source": [
    "def test ( id ):\n",
    "    print ( \" prog start %d % id ) "
   ]
  },
  {
   "cell_type": "code",
   "execution_count": null,
   "id": "e682f499-87f6-4952-8461-dff95ecad4d5",
   "metadata": {},
   "outputs": [],
   "source": [
    "test ( 45 ) \n",
    "prog start 45"
   ]
  },
  {
   "cell_type": "code",
   "execution_count": null,
   "id": "09bb18cf-3702-4d98-b9c6-9cffa4f2d8fa",
   "metadata": {},
   "outputs": [],
   "source": [
    "thread= threading thread ( target= test, args= (1) fon i in range ( 10 ) "
   ]
  },
  {
   "cell_type": "code",
   "execution_count": null,
   "id": "35313539-7fac-455f-8369-d2c6a105bb22",
   "metadata": {},
   "outputs": [],
   "source": [
    "for t in thread:\n",
    "    t start ()"
   ]
  },
  {
   "cell_type": "code",
   "execution_count": null,
   "id": "6ffe026f-ba2f-40c6-b5bb-1c1f61f8a91f",
   "metadata": {},
   "outputs": [],
   "source": [
    "list ( range ( 10 )) "
   ]
  },
  {
   "cell_type": "code",
   "execution_count": null,
   "id": "2a6f25e9-15f7-4633-b59e-6ccdbe46a667",
   "metadata": {},
   "outputs": [],
   "source": [
    "[ 0,1,2,3,4,5,6,7,8,9 ] "
   ]
  },
  {
   "cell_type": "code",
   "execution_count": null,
   "id": "39d25730-0c2c-40a4-ab35-80736edf97b9",
   "metadata": {},
   "outputs": [],
   "source": [
    "id ( thread ) \n",
    ">"
   ]
  },
  {
   "cell_type": "code",
   "execution_count": null,
   "id": "55f39c55-137e-4fb0-88bb-18db35b2b02e",
   "metadata": {},
   "outputs": [],
   "source": [
    "import threading\n",
    "import urlib request\n",
    "def file___download (uri), File name) : \n",
    "    urllib request urlrctrieve ( uri, file name) "
   ]
  },
  {
   "cell_type": "code",
   "execution_count": null,
   "id": "d6496291-72a5-492a-9c85-e0323fa47e48",
   "metadata": {},
   "outputs": [],
   "source": [
    "file___name___list= [ datal. txt. data 2 txt data 3 txt] "
   ]
  },
  {
   "cell_type": "code",
   "execution_count": null,
   "id": "339cb151-2cf3-4413-be6a-ed0c975c6e66",
   "metadata": {},
   "outputs": [],
   "source": [
    "Threading thread ( target = file__ download args\n",
    "                 =9 url- list[1], file name list {[1]}\n",
    "                  for i in range ( len( url- list))"
   ]
  },
  {
   "cell_type": "code",
   "execution_count": null,
   "id": "315dc05a-2c8f-4236-badb-5baf14cd6cc5",
   "metadata": {},
   "outputs": [],
   "source": [
    "Q-2"
   ]
  },
  {
   "cell_type": "code",
   "execution_count": null,
   "id": "c79993ed-561d-4128-9a80-e2203609362b",
   "metadata": {},
   "outputs": [],
   "source": [
    "Active count ()"
   ]
  },
  {
   "cell_type": "code",
   "execution_count": null,
   "id": "21802e92-d3ba-48b1-a779-dfc76055cca9",
   "metadata": {},
   "outputs": [],
   "source": [
    "package com.tutorialpoint\n",
    "import java. lang\n",
    "public class thread demo\n",
    "\n",
    "public static void main ( string [] args )"
   ]
  },
  {
   "cell_type": "code",
   "execution_count": null,
   "id": "0069187a-4132-4a9e-9f84-b4bdec3bf03d",
   "metadata": {},
   "outputs": [],
   "source": [
    "Thread t = thread current thread ();\n",
    "t. set name ('' Admin Thread'')\n",
    "// set thread priority to 1 \n",
    "t set priority to 1 \n",
    "// set thread priority to 1 \n",
    "t set priority ( 1 ) \n",
    "// print the current thread\n",
    "system out print in (' Thread = *t ): "
   ]
  },
  {
   "cell_type": "code",
   "execution_count": null,
   "id": "4fd9bdbe-cb31-4eb8-adf5-d37498f4d1a5",
   "metadata": {},
   "outputs": [],
   "source": [
    "int count= Thread active count () ; \n",
    "system out print ( \" current active thread = * count ) :"
   ]
  },
  {
   "cell_type": "code",
   "execution_count": null,
   "id": "38799009-15bd-44fe-a4ad-65d84e4973ae",
   "metadata": {},
   "outputs": [],
   "source": [
    "Current Thread ()"
   ]
  },
  {
   "cell_type": "code",
   "execution_count": null,
   "id": "2f3d8e83-be4b-4ce7-ad25-ead5fc63d13b",
   "metadata": {},
   "outputs": [],
   "source": [
    "Pacakage mainn"
   ]
  },
  {
   "cell_type": "code",
   "execution_count": null,
   "id": "19c66ebd-a8b3-44d4-9b18-d3bdb03f42db",
   "metadata": {},
   "outputs": [],
   "source": [
    "class Mythread extends Thread"
   ]
  },
  {
   "cell_type": "code",
   "execution_count": null,
   "id": "5afee0c1-1c3a-4382-ba21-cdc58bc21d3d",
   "metadata": {},
   "outputs": [],
   "source": [
    "Public void run () "
   ]
  },
  {
   "cell_type": "code",
   "execution_count": null,
   "id": "643a8883-aa77-4a86-8c30-0e9225d759ca",
   "metadata": {},
   "outputs": [],
   "source": [
    "system out print in ( Thread current Thread "
   ]
  },
  {
   "cell_type": "code",
   "execution_count": null,
   "id": "e354c6d0-7fa3-44e8-9ac3-57c0fd38358d",
   "metadata": {},
   "outputs": [],
   "source": [
    "public class Geekyshows"
   ]
  },
  {
   "cell_type": "code",
   "execution_count": null,
   "id": "7bf4269c-2d13-44dd-96fe-7db2f933b146",
   "metadata": {},
   "outputs": [],
   "source": [
    "Public static void main ( string args []"
   ]
  },
  {
   "cell_type": "code",
   "execution_count": null,
   "id": "1171482e-8e68-4584-9963-8246ba3d04e4",
   "metadata": {},
   "outputs": [],
   "source": [
    "My thread t= new Mythread() \n",
    "t start ()\n",
    "system out printIn ( Thread current Thread ()) "
   ]
  },
  {
   "cell_type": "code",
   "execution_count": null,
   "id": "d6667f5b-26fc-4470-949d-c4adc4044192",
   "metadata": {},
   "outputs": [],
   "source": [
    "Enumerate () "
   ]
  },
  {
   "cell_type": "code",
   "execution_count": null,
   "id": "a793d282-fc4e-4b44-a6f8-886af97c8872",
   "metadata": {},
   "outputs": [],
   "source": [
    "1= [ \" eat\"; \" sleep; repet\"] "
   ]
  },
  {
   "cell_type": "code",
   "execution_count": null,
   "id": "f9df18dc-247d-40f8-9363-8a253a52c2ea",
   "metadata": {},
   "outputs": [],
   "source": [
    "# printing the tuple in object directly for ele in enumerate (//) \n",
    "print ( ele ) \n",
    "# changing index & printing separately for count ele in enumerate ( 1, 100) \n",
    "print ( count ele )\n",
    "# getting desired out put from tuplr for count, ele in enumerate ( 11 ) \n",
    "print ( count ) \n",
    "print ( ele ) "
   ]
  },
  {
   "cell_type": "code",
   "execution_count": null,
   "id": "db8ac690-9daf-4d42-b2ed-e069ec5418f3",
   "metadata": {},
   "outputs": [],
   "source": [
    "Q.3"
   ]
  },
  {
   "cell_type": "code",
   "execution_count": null,
   "id": "e8230c6b-6317-46f2-94e3-5537a1282195",
   "metadata": {},
   "outputs": [],
   "source": [
    "1) function "
   ]
  },
  {
   "cell_type": "code",
   "execution_count": null,
   "id": "117e1c69-fbbe-4e8a-a0d7-e0a0c2326d09",
   "metadata": {},
   "outputs": [],
   "source": [
    "int main ()\n",
    "/* function prototypes*/"
   ]
  },
  {
   "cell_type": "code",
   "execution_count": null,
   "id": "70b2847f-4775-430b-99b9-e6abf21f8979",
   "metadata": {},
   "outputs": [],
   "source": [
    "long lift ( int ) step drop ( int ) \n",
    "void work ( int number long (* function) \n",
    "           int i)): "
   ]
  },
  {
   "cell_type": "code",
   "execution_count": null,
   "id": "b29ed2f5-096d-4bfc-839d-443bde0b5ca2",
   "metadata": {},
   "outputs": [],
   "source": [
    "int select, count \n",
    "select = 1\n",
    "switch ( select ) "
   ]
  },
  {
   "cell_type": "code",
   "execution_count": null,
   "id": "335110b0-caad-499a-ac45-2762de8baabf",
   "metadata": {},
   "outputs": [],
   "source": [
    "Case 1 : Work ( count, lift ) \n",
    "break\n",
    "Case 2 : Work ( count, step) : \n",
    "    break\n",
    "case 3 : Work ( count, drop ) :\n",
    "    /* fall through to next \n",
    "    case */"
   ]
  },
  {
   "cell_type": "markdown",
   "id": "c4852057-19ce-47a1-891f-39f5d606c895",
   "metadata": {},
   "source": [
    "2) start function () "
   ]
  },
  {
   "cell_type": "code",
   "execution_count": null,
   "id": "d0dfb533-00ff-433f-94c7-d27e6158a95a",
   "metadata": {},
   "outputs": [],
   "source": [
    "[ Start ] [ nodemon] 2.0.15\n",
    "[ start ] serving function.....\n",
    "[ start ] function : helloworld \n",
    "signature type : http\n",
    "URL : http:// local Host : 8080/\n",
    "[ start ] [ nodemon ] restarting due to changes...\n",
    "[ start ] [ nodemon ] starting npm run-s start \n",
    "[ start ] serving function"
   ]
  },
  {
   "cell_type": "code",
   "execution_count": null,
   "id": "59056057-7fe4-4888-b273-d5dd6c476365",
   "metadata": {},
   "outputs": [],
   "source": [
    "3) is alive"
   ]
  },
  {
   "cell_type": "code",
   "execution_count": null,
   "id": "7d82049c-44a6-49ac-a2e0-a6329c7d55f3",
   "metadata": {},
   "outputs": [],
   "source": [
    "def countdown ( count ) \n",
    "print ( f Thread alive ? [ thread, is alive () } ) \n",
    "print ( \" counting down .....\") \n",
    "while count > 0 ; \n",
    "print ( f { count} left ) \n",
    "    count -= 1 \n",
    "print (\" We Made It \")                                                     "
   ]
  },
  {
   "cell_type": "code",
   "execution_count": null,
   "id": "6cde8445-48ca-41ec-bc70-b487a56a2d0d",
   "metadata": {},
   "outputs": [],
   "source": [
    "Q.4"
   ]
  },
  {
   "cell_type": "code",
   "execution_count": null,
   "id": "29738669-d122-4c35-b568-cadf83a5636a",
   "metadata": {},
   "outputs": [],
   "source": [
    "import time \n",
    "import time- thread "
   ]
  },
  {
   "cell_type": "code",
   "execution_count": null,
   "id": "12b63d83-848a-493c-9602-291a9034584c",
   "metadata": {},
   "outputs": [],
   "source": [
    "def thread ___ test ( name, wait ) : \n",
    "    i= 0\n",
    "    while < =3 \n",
    "    time sleep ( Wait ) \n",
    "    print ( Running s\\n\" name ) \n",
    "    i=1*1\n",
    "print ( s has finished execution name )            "
   ]
  },
  {
   "cell_type": "code",
   "execution_count": null,
   "id": "071dc510-c137-4de3-92ea-d50e5a863536",
   "metadata": {},
   "outputs": [],
   "source": [
    "Q.5"
   ]
  },
  {
   "cell_type": "code",
   "execution_count": null,
   "id": "b51b81fd-e4ab-4612-bd33-f588dd3031ce",
   "metadata": {},
   "outputs": [],
   "source": [
    "Performance, repondiveness & resource utilization"
   ]
  },
  {
   "cell_type": "code",
   "execution_count": null,
   "id": "72bc3779-26d8-405d-81d9-75164f779d27",
   "metadata": {},
   "outputs": [],
   "source": [
    "Q.6"
   ]
  },
  {
   "cell_type": "code",
   "execution_count": null,
   "id": "75bb0a1a-7f94-406c-98e2-392aa92f973f",
   "metadata": {},
   "outputs": [],
   "source": [
    "1) def time ():\n",
    "    while true:\n",
    "        with lock__ 1 acquire ( time our time out window) \n",
    "        with lock__ 2 acquire ( time out time out window) \n",
    "        print ( \" Time \" ) \n",
    " 2) # Program acc parallel loop for ( int i = 0, i < B, i** )\n",
    "list [1] = 0\n",
    "    # program acc parallel loop for { int i= 0: i< count: i**) "
   ]
  }
 ],
 "metadata": {
  "kernelspec": {
   "display_name": "Python 3 (ipykernel)",
   "language": "python",
   "name": "python3"
  },
  "language_info": {
   "codemirror_mode": {
    "name": "ipython",
    "version": 3
   },
   "file_extension": ".py",
   "mimetype": "text/x-python",
   "name": "python",
   "nbconvert_exporter": "python",
   "pygments_lexer": "ipython3",
   "version": "3.10.8"
  }
 },
 "nbformat": 4,
 "nbformat_minor": 5
}
